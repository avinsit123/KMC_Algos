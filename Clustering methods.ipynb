{
 "cells": [
  {
   "cell_type": "code",
   "execution_count": 208,
   "metadata": {},
   "outputs": [],
   "source": [
    "from scipy.cluster.hierarchy import fclusterdata,ward\n",
    "from scipy.spatial.distance import pdist\n",
    "from scipy.stats import spearmanr\n",
    "import numpy as np"
   ]
  },
  {
   "cell_type": "code",
   "execution_count": 49,
   "metadata": {},
   "outputs": [],
   "source": [
    "X = [[0, 0], [0, 1], [1, 0],\n",
    "...      [0, 4], [0, 3], [1, 4],\n",
    "...      [4, 0], [3, 0], [4, 1],\n",
    "...      [4, 4], [3, 4], [4, 3]]\n",
    "X = np.asarray(X)"
   ]
  },
  {
   "cell_type": "code",
   "execution_count": 211,
   "metadata": {},
   "outputs": [
    {
     "data": {
      "text/plain": [
       "0.0"
      ]
     },
     "execution_count": 211,
     "metadata": {},
     "output_type": "execute_result"
    }
   ],
   "source": [
    "x = [1, 2, 3]\n",
    "x_corr = [2, 4, 6]\n",
    "corr, p_value = spearmanr(x, x_corr)\n",
    "p_value"
   ]
  },
  {
   "cell_type": "code",
   "execution_count": 213,
   "metadata": {},
   "outputs": [],
   "source": [
    "import random\n",
    "import math\n",
    "def normalized(ar):\n",
    "    return (ar - np.average(ar))/np.std(ar)\n",
    "\n",
    "def cosine_similarity(ar1, ar2):\n",
    "    numerator = np.sum(ar1 * ar2)\n",
    "    denominator = np.sqrt(np.sum(ar1 * ar1) * np.sum(ar2 * ar2))\n",
    "    if denominator != 0:\n",
    "        return numerator / denominator\n",
    "    else:\n",
    "        return 0\n",
    "    \n",
    "def eucldist(p0,p1):\n",
    "    dist = 0.0\n",
    "    for i in range(0,len(p0)):\n",
    "        dist += (p0[i] - p1[i])**2\n",
    "    return math.sqrt(dist)\n",
    "\n",
    "def manhattan(p0,p1):\n",
    "    dist =0.0\n",
    "    for i in range(0,len(p0)):\n",
    "        dist += abs(p0[i]-p1[i])\n",
    "    return dist\n",
    "\n",
    "def chebysheb(p0,p1):\n",
    "    dist = 0.0\n",
    "    for i in range(0,len(p0)):\n",
    "        dist = max(p0[i]-p1[i],dist)\n",
    "    return dist\n",
    "\n",
    "def pearson(p0,p1):\n",
    "    return 1 - cosine_similarity(normalized(p0),normalized(p1))\n",
    "\n",
    "def spearman(p0,p1):\n",
    "    corr, p_value = spearmanr(p0,p1)\n",
    "    return 1 - corr\n",
    "    \n",
    "def fordist(metric,p0,p1):\n",
    "    if metric==\"euclidean\":\n",
    "        return eucldist(p0,p1)\n",
    "    elif metric==\"manhattan\":\n",
    "        return manhattan(p0,p1)\n",
    "    elif metric==\"chebyshev\":\n",
    "        return chebysheb(p0,p1)\n",
    "    elif metric==\"pearson\":\n",
    "        return pearson(p0,p1)\n",
    "    elif metric==\"spearman\":\n",
    "        return spearman(p0,p1)\n"
   ]
  },
  {
   "cell_type": "code",
   "execution_count": 243,
   "metadata": {},
   "outputs": [],
   "source": [
    "def cost_function(cluster_centers,cluster,datapoints):\n",
    "    n = datapoints.shape[0]\n",
    "    cost = 0.0\n",
    "    print(n)\n",
    "    for i in range(n):\n",
    "        cost += eucldist(cluster_centers[cluster[i]],datapoints[i])\n",
    "    print(\"MSE LOSS :\",format(cost/n))\n",
    "    return np.sqrt(cost)/n"
   ]
  },
  {
   "cell_type": "code",
   "execution_count": 248,
   "metadata": {},
   "outputs": [],
   "source": [
    "def kmeans(k,datapoints,metric):\n",
    "\n",
    "    d = len(datapoints[0]) \n",
    "    \n",
    "    #Limit our iterations\n",
    "    Max_Iterations = 30\n",
    "    i = 0\n",
    "    \n",
    "    cluster = [0] * len(datapoints)\n",
    "    prev_cluster = [-1] * len(datapoints)\n",
    "    \n",
    "    #Randomly Choose Centers for the Clusters\n",
    "    cluster_centers = []\n",
    "    for i in range(0,k):\n",
    "        new_cluster = []\n",
    "        #for i in range(0,d):\n",
    "        #    new_cluster += [random.randint(0,10)]\n",
    "        cluster_centers += [random.choice(datapoints)]\n",
    "        \n",
    "        \n",
    "        #Sometimes The Random points are chosen poorly and so there ends up being empty clusters\n",
    "        #In this particular implementation we want to force K exact clusters.\n",
    "        #To take this feature off, simply take away \"force_recalculation\" from the while conditional.\n",
    "        force_recalculation = False\n",
    "    \n",
    "    while (cluster != prev_cluster) and (i < Max_Iterations) :\n",
    "        \n",
    "        prev_cluster = list(cluster)\n",
    "        force_recalculation = False\n",
    "        i += 1\n",
    "        #print(i)\n",
    "        #Update Point's Cluster Alligiance\n",
    "        for p in range(0,len(datapoints)):\n",
    "            min_dist = float(\"inf\")\n",
    "            \n",
    "            #Check min_distance against all centers\n",
    "            for c in range(0,len(cluster_centers)):\n",
    "                \n",
    "                dist = fordist(metric,datapoints[p],cluster_centers[c])\n",
    "                \n",
    "                if (dist < min_dist):\n",
    "                    min_dist = dist  \n",
    "                    cluster[p] = c   # Reassign Point to new Cluster\n",
    "        \n",
    "        \n",
    "        #Update Cluster's Position\n",
    "        for k in range(0,len(cluster_centers)):\n",
    "            new_center = [0] * d\n",
    "            members = 0\n",
    "            for p in range(0,len(datapoints)):\n",
    "                if (cluster[p] == k): #If this point belongs to the cluster\n",
    "                    for j in range(0,d):\n",
    "                        new_center[j] += datapoints[p][j]\n",
    "                    members += 1\n",
    "            \n",
    "            for j in range(0,d):\n",
    "                if members != 0:\n",
    "                    new_center[j] = new_center[j] / float(members) \n",
    "                \n",
    "                #This means that our initial random assignment was poorly chosen\n",
    "                #Change it to a new datapoint to actually force k clusters\n",
    "                else: \n",
    "                    new_center = random.choice(datapoints)\n",
    "                    force_recalculation = True\n",
    "                    #print (\"Forced Recalculation...\")\n",
    "                    \n",
    "            \n",
    "            cluster_centers[k] = new_center\n",
    "    \n",
    "        \n",
    "    #print (\"======== Results ========\")\n",
    "    #print (\"Clusters\", cluster_centers)\n",
    "    print (\"Iterations\",i)\n",
    "    #print (\"Assignments\", cluster)\n",
    "    \n",
    "    return cluster_centers,cluster"
   ]
  },
  {
   "cell_type": "code",
   "execution_count": 245,
   "metadata": {},
   "outputs": [],
   "source": [
    "filename = '/Users/r17935avinash/Downloads/AirQualityUCI.csv'\n",
    "data = pd.read_csv(filename)\n",
    "data= data[['CO_GT', 'PT08_S1_CO', 'NMHC_GT', 'C6H6_GT',\n",
    "       'PT08_S2_NMHC', 'Nox_GT', 'PT08_S3_Nox', 'NO2_GT', 'PT08_S4_NO2',\n",
    "       'PT08_S5_O3', 'T', 'RH', 'AH']]\n",
    "data = data.values"
   ]
  },
  {
   "cell_type": "code",
   "execution_count": 246,
   "metadata": {},
   "outputs": [
    {
     "name": "stdout",
     "output_type": "stream",
     "text": [
      "Iterations 30\n",
      "9357\n",
      "MSE LOSS : 260.79738404066404\n",
      "The RMSE Loss is 0.1669487995830879\n"
     ]
    }
   ],
   "source": [
    "cluster_centers,cluster = kmeans(20,data,\"euclidean\")\n",
    "rmse_loss = cost_function(cluster_centers,cluster,data)\n",
    "print(\"The RMSE Loss is\",format(rmse_loss))"
   ]
  },
  {
   "cell_type": "code",
   "execution_count": 247,
   "metadata": {},
   "outputs": [
    {
     "name": "stdout",
     "output_type": "stream",
     "text": [
      "Iterations 30\n",
      "9357\n",
      "MSE LOSS : 264.6138805451314\n",
      "The RMSE Loss is 0.16816592331619706\n"
     ]
    }
   ],
   "source": [
    "cluster_centers,cluster = kmeans(20,data,\"manhattan\")\n",
    "rmse_loss = cost_function(cluster_centers,cluster,data)\n",
    "print(\"The RMSE Loss is\",format(rmse_loss))"
   ]
  },
  {
   "cell_type": "code",
   "execution_count": 249,
   "metadata": {},
   "outputs": [
    {
     "name": "stdout",
     "output_type": "stream",
     "text": [
      "Iterations 30\n",
      "9357\n",
      "MSE LOSS : 473.63091078434445\n",
      "The RMSE Loss is 0.22498403652639778\n"
     ]
    }
   ],
   "source": [
    "cluster_centers,cluster = kmeans(20,data,\"chebyshev\")\n",
    "rmse_loss = cost_function(cluster_centers,cluster,data)\n",
    "print(\"The RMSE Loss is\",format(rmse_loss))"
   ]
  },
  {
   "cell_type": "code",
   "execution_count": 250,
   "metadata": {},
   "outputs": [
    {
     "name": "stderr",
     "output_type": "stream",
     "text": [
      "/Users/r17935avinash/anaconda3/lib/python3.5/site-packages/ipykernel_launcher.py:2: RuntimeWarning: invalid value encountered in true_divide\n",
      "  \n"
     ]
    },
    {
     "name": "stdout",
     "output_type": "stream",
     "text": [
      "Iterations 30\n",
      "9357\n",
      "MSE LOSS : 300.35335101651754\n",
      "The RMSE Loss is 0.1791628350755872\n"
     ]
    }
   ],
   "source": [
    "cluster_centers,cluster = kmeans(20,data,\"pearson\")\n",
    "rmse_loss = cost_function(cluster_centers,cluster,data)\n",
    "print(\"The RMSE Loss is\",format(rmse_loss))"
   ]
  },
  {
   "cell_type": "code",
   "execution_count": 252,
   "metadata": {},
   "outputs": [
    {
     "name": "stderr",
     "output_type": "stream",
     "text": [
      "/Users/r17935avinash/anaconda3/lib/python3.5/site-packages/numpy/lib/function_base.py:2400: RuntimeWarning: invalid value encountered in true_divide\n",
      "  c /= stddev[:, None]\n",
      "/Users/r17935avinash/anaconda3/lib/python3.5/site-packages/numpy/lib/function_base.py:2401: RuntimeWarning: invalid value encountered in true_divide\n",
      "  c /= stddev[None, :]\n",
      "/Users/r17935avinash/anaconda3/lib/python3.5/site-packages/scipy/stats/_distn_infrastructure.py:879: RuntimeWarning: invalid value encountered in greater\n",
      "  return (self.a < x) & (x < self.b)\n",
      "/Users/r17935avinash/anaconda3/lib/python3.5/site-packages/scipy/stats/_distn_infrastructure.py:879: RuntimeWarning: invalid value encountered in less\n",
      "  return (self.a < x) & (x < self.b)\n",
      "/Users/r17935avinash/anaconda3/lib/python3.5/site-packages/scipy/stats/_distn_infrastructure.py:1821: RuntimeWarning: invalid value encountered in less_equal\n",
      "  cond2 = cond0 & (x <= self.a)\n"
     ]
    },
    {
     "name": "stdout",
     "output_type": "stream",
     "text": [
      "Iterations 26\n",
      "9357\n",
      "MSE LOSS : 399.8957677214262\n",
      "The RMSE Loss is 0.2067307542628519\n"
     ]
    }
   ],
   "source": [
    "cluster_centers,cluster = kmeans(20,data,\"spearman\")\n",
    "rmse_loss = cost_function(cluster_centers,cluster,data)\n",
    "print(\"The RMSE Loss is\",format(rmse_loss))"
   ]
  },
  {
   "cell_type": "code",
   "execution_count": null,
   "metadata": {},
   "outputs": [],
   "source": []
  }
 ],
 "metadata": {
  "kernelspec": {
   "display_name": "Python 3",
   "language": "python",
   "name": "python3"
  },
  "language_info": {
   "codemirror_mode": {
    "name": "ipython",
    "version": 3
   },
   "file_extension": ".py",
   "mimetype": "text/x-python",
   "name": "python",
   "nbconvert_exporter": "python",
   "pygments_lexer": "ipython3",
   "version": "3.5.6"
  },
  "widgets": {
   "state": {},
   "version": "1.1.2"
  }
 },
 "nbformat": 4,
 "nbformat_minor": 2
}
